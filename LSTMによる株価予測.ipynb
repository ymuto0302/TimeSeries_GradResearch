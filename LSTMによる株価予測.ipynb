{
 "cells": [
  {
   "cell_type": "code",
   "execution_count": 1,
   "metadata": {
    "colab": {
     "base_uri": "https://localhost:8080/"
    },
    "id": "7F6OLajpaT_y",
    "outputId": "7f9cbce1-3af4-4113-c03f-01b2acff37dd"
   },
   "outputs": [
    {
     "name": "stdout",
     "output_type": "stream",
     "text": [
      "Collecting yfinance\n",
      "  Using cached yfinance-0.1.74-py2.py3-none-any.whl (27 kB)\n",
      "Requirement already satisfied: lxml>=4.5.1 in /home/muto/anaconda3/envs/timeseries/lib/python3.8/site-packages (from yfinance) (4.8.0)\n",
      "Requirement already satisfied: numpy>=1.15 in /home/muto/anaconda3/envs/timeseries/lib/python3.8/site-packages (from yfinance) (1.21.5)\n",
      "Requirement already satisfied: pandas>=0.24.0 in /home/muto/anaconda3/envs/timeseries/lib/python3.8/site-packages (from yfinance) (1.4.2)\n",
      "Collecting multitasking>=0.0.7\n",
      "  Using cached multitasking-0.0.11-py3-none-any.whl (8.5 kB)\n",
      "Requirement already satisfied: requests>=2.26 in /home/muto/anaconda3/envs/timeseries/lib/python3.8/site-packages (from yfinance) (2.27.1)\n",
      "Requirement already satisfied: python-dateutil>=2.8.1 in /home/muto/anaconda3/envs/timeseries/lib/python3.8/site-packages (from pandas>=0.24.0->yfinance) (2.8.2)\n",
      "Requirement already satisfied: pytz>=2020.1 in /home/muto/anaconda3/envs/timeseries/lib/python3.8/site-packages (from pandas>=0.24.0->yfinance) (2021.3)\n",
      "Requirement already satisfied: six>=1.5 in /home/muto/anaconda3/envs/timeseries/lib/python3.8/site-packages (from python-dateutil>=2.8.1->pandas>=0.24.0->yfinance) (1.16.0)\n",
      "Requirement already satisfied: charset-normalizer~=2.0.0 in /home/muto/anaconda3/envs/timeseries/lib/python3.8/site-packages (from requests>=2.26->yfinance) (2.0.4)\n",
      "Requirement already satisfied: certifi>=2017.4.17 in /home/muto/anaconda3/envs/timeseries/lib/python3.8/site-packages (from requests>=2.26->yfinance) (2021.10.8)\n",
      "Requirement already satisfied: idna<4,>=2.5 in /home/muto/anaconda3/envs/timeseries/lib/python3.8/site-packages (from requests>=2.26->yfinance) (3.3)\n",
      "Requirement already satisfied: urllib3<1.27,>=1.21.1 in /home/muto/anaconda3/envs/timeseries/lib/python3.8/site-packages (from requests>=2.26->yfinance) (1.26.9)\n",
      "Installing collected packages: multitasking, yfinance\n",
      "Successfully installed multitasking-0.0.11 yfinance-0.1.74\n"
     ]
    }
   ],
   "source": [
    "# yfinance モジュールのインストール\n",
    "!pip install yfinance"
   ]
  },
  {
   "cell_type": "code",
   "execution_count": 1,
   "metadata": {
    "colab": {
     "base_uri": "https://localhost:8080/"
    },
    "id": "k9DVadyEaht7",
    "outputId": "455f2e36-f8d7-44b5-c7b1-a965df64dcac"
   },
   "outputs": [
    {
     "name": "stdout",
     "output_type": "stream",
     "text": [
      "[*********************100%***********************]  1 of 1 completed\n"
     ]
    }
   ],
   "source": [
    "# Google の株価をダウンロード\n",
    "from datetime import datetime\n",
    "import yfinance as yf\n",
    "\n",
    "# df = yf.download(\"GOOGL\", start=datetime(2017,1,1), end=datetime(2021,12,31))\n",
    "df = yf.download(\"HMC\", start=datetime(2017,1,1), end=datetime(2021,12,31)) # Honda Motor Co., Ltd."
   ]
  },
  {
   "cell_type": "code",
   "execution_count": 2,
   "metadata": {
    "colab": {
     "base_uri": "https://localhost:8080/",
     "height": 450
    },
    "id": "7mIBraMfa3H1",
    "outputId": "067e51cf-0cfd-4e47-ac85-5e5025db42dc"
   },
   "outputs": [
    {
     "data": {
      "text/html": [
       "<div>\n",
       "<style scoped>\n",
       "    .dataframe tbody tr th:only-of-type {\n",
       "        vertical-align: middle;\n",
       "    }\n",
       "\n",
       "    .dataframe tbody tr th {\n",
       "        vertical-align: top;\n",
       "    }\n",
       "\n",
       "    .dataframe thead th {\n",
       "        text-align: right;\n",
       "    }\n",
       "</style>\n",
       "<table border=\"1\" class=\"dataframe\">\n",
       "  <thead>\n",
       "    <tr style=\"text-align: right;\">\n",
       "      <th></th>\n",
       "      <th>Open</th>\n",
       "      <th>High</th>\n",
       "      <th>Low</th>\n",
       "      <th>Close</th>\n",
       "      <th>Adj Close</th>\n",
       "      <th>Volume</th>\n",
       "    </tr>\n",
       "    <tr>\n",
       "      <th>Date</th>\n",
       "      <th></th>\n",
       "      <th></th>\n",
       "      <th></th>\n",
       "      <th></th>\n",
       "      <th></th>\n",
       "      <th></th>\n",
       "    </tr>\n",
       "  </thead>\n",
       "  <tbody>\n",
       "    <tr>\n",
       "      <th>2017-01-03</th>\n",
       "      <td>29.480000</td>\n",
       "      <td>29.610001</td>\n",
       "      <td>29.420000</td>\n",
       "      <td>29.610001</td>\n",
       "      <td>29.610001</td>\n",
       "      <td>864500</td>\n",
       "    </tr>\n",
       "    <tr>\n",
       "      <th>2017-01-04</th>\n",
       "      <td>30.209999</td>\n",
       "      <td>30.670000</td>\n",
       "      <td>30.209999</td>\n",
       "      <td>30.660000</td>\n",
       "      <td>30.660000</td>\n",
       "      <td>705500</td>\n",
       "    </tr>\n",
       "    <tr>\n",
       "      <th>2017-01-05</th>\n",
       "      <td>30.620001</td>\n",
       "      <td>30.780001</td>\n",
       "      <td>30.580000</td>\n",
       "      <td>30.660000</td>\n",
       "      <td>30.660000</td>\n",
       "      <td>482600</td>\n",
       "    </tr>\n",
       "    <tr>\n",
       "      <th>2017-01-06</th>\n",
       "      <td>30.350000</td>\n",
       "      <td>30.580000</td>\n",
       "      <td>30.240000</td>\n",
       "      <td>30.469999</td>\n",
       "      <td>30.469999</td>\n",
       "      <td>493600</td>\n",
       "    </tr>\n",
       "    <tr>\n",
       "      <th>2017-01-09</th>\n",
       "      <td>30.370001</td>\n",
       "      <td>30.500000</td>\n",
       "      <td>30.299999</td>\n",
       "      <td>30.430000</td>\n",
       "      <td>30.430000</td>\n",
       "      <td>585200</td>\n",
       "    </tr>\n",
       "    <tr>\n",
       "      <th>...</th>\n",
       "      <td>...</td>\n",
       "      <td>...</td>\n",
       "      <td>...</td>\n",
       "      <td>...</td>\n",
       "      <td>...</td>\n",
       "      <td>...</td>\n",
       "    </tr>\n",
       "    <tr>\n",
       "      <th>2021-12-23</th>\n",
       "      <td>27.760000</td>\n",
       "      <td>28.129999</td>\n",
       "      <td>27.760000</td>\n",
       "      <td>28.080000</td>\n",
       "      <td>28.080000</td>\n",
       "      <td>731300</td>\n",
       "    </tr>\n",
       "    <tr>\n",
       "      <th>2021-12-27</th>\n",
       "      <td>28.000000</td>\n",
       "      <td>28.240000</td>\n",
       "      <td>27.900000</td>\n",
       "      <td>28.209999</td>\n",
       "      <td>28.209999</td>\n",
       "      <td>723200</td>\n",
       "    </tr>\n",
       "    <tr>\n",
       "      <th>2021-12-28</th>\n",
       "      <td>28.180000</td>\n",
       "      <td>28.350000</td>\n",
       "      <td>28.180000</td>\n",
       "      <td>28.200001</td>\n",
       "      <td>28.200001</td>\n",
       "      <td>773500</td>\n",
       "    </tr>\n",
       "    <tr>\n",
       "      <th>2021-12-29</th>\n",
       "      <td>28.219999</td>\n",
       "      <td>28.270000</td>\n",
       "      <td>28.139999</td>\n",
       "      <td>28.180000</td>\n",
       "      <td>28.180000</td>\n",
       "      <td>608200</td>\n",
       "    </tr>\n",
       "    <tr>\n",
       "      <th>2021-12-30</th>\n",
       "      <td>28.139999</td>\n",
       "      <td>28.330000</td>\n",
       "      <td>28.139999</td>\n",
       "      <td>28.240000</td>\n",
       "      <td>28.240000</td>\n",
       "      <td>727100</td>\n",
       "    </tr>\n",
       "  </tbody>\n",
       "</table>\n",
       "<p>1258 rows × 6 columns</p>\n",
       "</div>"
      ],
      "text/plain": [
       "                 Open       High        Low      Close  Adj Close  Volume\n",
       "Date                                                                     \n",
       "2017-01-03  29.480000  29.610001  29.420000  29.610001  29.610001  864500\n",
       "2017-01-04  30.209999  30.670000  30.209999  30.660000  30.660000  705500\n",
       "2017-01-05  30.620001  30.780001  30.580000  30.660000  30.660000  482600\n",
       "2017-01-06  30.350000  30.580000  30.240000  30.469999  30.469999  493600\n",
       "2017-01-09  30.370001  30.500000  30.299999  30.430000  30.430000  585200\n",
       "...               ...        ...        ...        ...        ...     ...\n",
       "2021-12-23  27.760000  28.129999  27.760000  28.080000  28.080000  731300\n",
       "2021-12-27  28.000000  28.240000  27.900000  28.209999  28.209999  723200\n",
       "2021-12-28  28.180000  28.350000  28.180000  28.200001  28.200001  773500\n",
       "2021-12-29  28.219999  28.270000  28.139999  28.180000  28.180000  608200\n",
       "2021-12-30  28.139999  28.330000  28.139999  28.240000  28.240000  727100\n",
       "\n",
       "[1258 rows x 6 columns]"
      ]
     },
     "execution_count": 2,
     "metadata": {},
     "output_type": "execute_result"
    }
   ],
   "source": [
    "df"
   ]
  },
  {
   "cell_type": "code",
   "execution_count": 3,
   "metadata": {
    "colab": {
     "base_uri": "https://localhost:8080/"
    },
    "id": "3tA2FywEa4HM",
    "outputId": "ed723cde-742b-449d-80ed-404162dc0698"
   },
   "outputs": [
    {
     "data": {
      "text/plain": [
       "array([[2.94799995e+01, 2.96100006e+01, 2.94200001e+01, 2.96100006e+01,\n",
       "        2.96100006e+01, 8.64500000e+05],\n",
       "       [3.02099991e+01, 3.06700001e+01, 3.02099991e+01, 3.06599998e+01,\n",
       "        3.06599998e+01, 7.05500000e+05],\n",
       "       [3.06200008e+01, 3.07800007e+01, 3.05799999e+01, 3.06599998e+01,\n",
       "        3.06599998e+01, 4.82600000e+05],\n",
       "       [3.03500004e+01, 3.05799999e+01, 3.02399998e+01, 3.04699993e+01,\n",
       "        3.04699993e+01, 4.93600000e+05],\n",
       "       [3.03700008e+01, 3.05000000e+01, 3.02999992e+01, 3.04300003e+01,\n",
       "        3.04300003e+01, 5.85200000e+05]])"
      ]
     },
     "execution_count": 3,
     "metadata": {},
     "output_type": "execute_result"
    }
   ],
   "source": [
    "data = df.to_numpy() #.tolist()\n",
    "data[:5]"
   ]
  },
  {
   "cell_type": "code",
   "execution_count": 4,
   "metadata": {
    "colab": {
     "base_uri": "https://localhost:8080/"
    },
    "id": "OVR6ikQNbTEH",
    "outputId": "67b6e327-80eb-41d9-c9f0-320e564f1dfb"
   },
   "outputs": [
    {
     "name": "stdout",
     "output_type": "stream",
     "text": [
      "features.shape: (1255, 3, 4)\n",
      "targets.shape: (1255,)\n",
      "train_x.shape: (1129, 3, 4)\n",
      "train_y.shape: (1129,)\n",
      "test_x.shape: (126, 3, 4)\n",
      "test_y.shape: (126,)\n"
     ]
    }
   ],
   "source": [
    "# t-5 〜 t-4日の Open / High / Close から t 日の close を予測するため，\n",
    "# データセットを作成する\n",
    "import numpy as np\n",
    "\n",
    "# [0,1] にスケーリング\n",
    "from sklearn.preprocessing import MinMaxScaler\n",
    "scaler = MinMaxScaler()\n",
    "data = scaler.fit_transform(data)\n",
    "\n",
    "PAST_DAYS = 3 # 5 # 過去の参照する日数\n",
    "\n",
    "features = list()\n",
    "targets = list()\n",
    "for idx in range(PAST_DAYS, len(data)):\n",
    "    past_data = data[idx-PAST_DAYS:idx]\n",
    "    features.append(past_data[:, 0:4])\n",
    "    targets.append(data[idx, 4])\n",
    "\n",
    "features = np.array(features)\n",
    "targets = np.array(targets)\n",
    "\n",
    "print(\"features.shape:\", features.shape)\n",
    "print(\"targets.shape:\", targets.shape)\n",
    "\n",
    "train_data_size = int(len(features) * 0.9)\n",
    "train_x = features[:train_data_size]\n",
    "train_y = targets[:train_data_size]\n",
    "test_x = features[train_data_size:]\n",
    "test_y = targets[train_data_size:]\n",
    "\n",
    "print(\"train_x.shape:\", train_x.shape)\n",
    "print(\"train_y.shape:\", train_y.shape)\n",
    "\n",
    "print(\"test_x.shape:\", test_x.shape)\n",
    "print(\"test_y.shape:\", test_y.shape)\n"
   ]
  },
  {
   "cell_type": "code",
   "execution_count": 5,
   "metadata": {
    "colab": {
     "base_uri": "https://localhost:8080/"
    },
    "id": "CaTUTnuBrt_t",
    "outputId": "14392afb-1f39-4a12-c7f0-3b837b943f9d"
   },
   "outputs": [
    {
     "data": {
      "text/plain": [
       "array([[[0.55929198, 0.5527082 , 0.58406054, 0.57794906],\n",
       "        [0.6023598 , 0.61444375, 0.63001743, 0.64018968],\n",
       "        [0.62654869, 0.62085031, 0.65154162, 0.64018968]],\n",
       "\n",
       "       [[0.6023598 , 0.61444375, 0.63001743, 0.64018968],\n",
       "        [0.62654869, 0.62085031, 0.65154162, 0.64018968],\n",
       "        [0.61061946, 0.60920204, 0.63176267, 0.62892705]],\n",
       "\n",
       "       [[0.62654869, 0.62085031, 0.65154162, 0.64018968],\n",
       "        [0.61061946, 0.60920204, 0.63176267, 0.62892705],\n",
       "        [0.61179943, 0.60454276, 0.63525304, 0.62655604]]])"
      ]
     },
     "execution_count": 5,
     "metadata": {},
     "output_type": "execute_result"
    }
   ],
   "source": [
    "train_x[:3]"
   ]
  },
  {
   "cell_type": "code",
   "execution_count": 6,
   "metadata": {
    "id": "8kjGl-henJvf"
   },
   "outputs": [],
   "source": [
    "import torch\n",
    "from torch.utils.data import Dataset, DataLoader\n",
    "\n",
    "class MyDataset(Dataset):\n",
    "    def __init__(self, x, y):\n",
    "        super().__init__()\n",
    "\n",
    "        self.x = torch.tensor(x, dtype=torch.float)\n",
    "        self.y = torch.tensor(y, dtype=torch.float)\n",
    "\n",
    "    def __len__(self):\n",
    "        return len(self.x)\n",
    "\n",
    "    def __getitem__(self, index):\n",
    "        return self.x[index], self.y[index]\n",
    "\n",
    "train_len = len(train_y)\n",
    "train_y = train_y.reshape((train_len, 1)) # batch 用に shape 変換\n",
    "# print(train_y.shape)\n",
    "dataset_train = MyDataset(train_x, train_y)\n",
    "dataset_test = MyDataset(test_x, test_y)\n",
    "\n",
    "dataloader_train = DataLoader(dataset_train, batch_size=32, shuffle=True)\n",
    "dataloader_test = DataLoader(dataset_test, batch_size=1, shuffle=False)\n"
   ]
  },
  {
   "cell_type": "code",
   "execution_count": 7,
   "metadata": {
    "colab": {
     "base_uri": "https://localhost:8080/"
    },
    "id": "L3GnnSBeoib9",
    "outputId": "e6b82317-c150-496f-cc2c-083930620ac3",
    "scrolled": false
   },
   "outputs": [
    {
     "name": "stdout",
     "output_type": "stream",
     "text": [
      "epoch 100: 0.0009649027488194406\n",
      "epoch 200: 0.0006269147270359099\n",
      "epoch 300: 0.0003423699818085879\n",
      "epoch 400: 0.00019012867414858192\n",
      "epoch 500: 9.48001179494895e-05\n",
      "epoch 600: 6.299233791651204e-05\n",
      "epoch 700: 4.7878776967991143e-05\n",
      "epoch 800: 4.255879684933461e-05\n",
      "epoch 900: 4.2068040784215555e-05\n",
      "epoch 1000: 3.9630784158362076e-05\n",
      "epoch 1100: 3.589954212657176e-05\n",
      "epoch 1200: 4.0643702959641814e-05\n",
      "epoch 1300: 3.6724191886605695e-05\n",
      "epoch 1400: 3.564709913916886e-05\n",
      "epoch 1500: 3.375497180968523e-05\n",
      "epoch 1600: 3.106080839643255e-05\n",
      "epoch 1700: 3.1407951610162854e-05\n",
      "epoch 1800: 3.127687159576453e-05\n",
      "epoch 1900: 3.102873233729042e-05\n",
      "epoch 2000: 2.9639366402989253e-05\n",
      "epoch 2100: 2.912004856625572e-05\n",
      "epoch 2200: 2.987341213156469e-05\n",
      "epoch 2300: 2.937640056188684e-05\n",
      "epoch 2400: 2.974985727632884e-05\n",
      "epoch 2500: 2.895053694373928e-05\n",
      "epoch 2600: 2.811217200360261e-05\n",
      "epoch 2700: 2.755118111963384e-05\n",
      "epoch 2800: 2.813282117131166e-05\n",
      "epoch 2900: 2.7696054530679248e-05\n",
      "epoch 3000: 2.7698226404027082e-05\n",
      "epoch 3100: 2.6611627617967315e-05\n",
      "epoch 3200: 2.808475801430177e-05\n",
      "epoch 3300: 2.7314887120155618e-05\n",
      "epoch 3400: 2.7091915399068967e-05\n",
      "epoch 3500: 2.7061847504228354e-05\n",
      "epoch 3600: 2.701547055039555e-05\n",
      "epoch 3700: 2.6769501346279867e-05\n",
      "epoch 3800: 2.6307747248210944e-05\n",
      "epoch 3900: 2.6568781322566792e-05\n",
      "epoch 4000: 2.5995481337304227e-05\n",
      "epoch 4100: 2.6710635211202316e-05\n",
      "epoch 4200: 2.68981766566867e-05\n",
      "epoch 4300: 2.760390634648502e-05\n",
      "epoch 4400: 2.7402289560995996e-05\n",
      "epoch 4500: 2.6520412575337104e-05\n",
      "epoch 4600: 2.652615148690529e-05\n",
      "epoch 4700: 2.6685178454499692e-05\n",
      "epoch 4800: 2.70147793344222e-05\n",
      "epoch 4900: 2.611039235489443e-05\n",
      "epoch 5000: 2.5713376089697704e-05\n",
      "epoch 5100: 2.624189801281318e-05\n",
      "epoch 5200: 2.670268077054061e-05\n",
      "epoch 5300: 2.6079966119141318e-05\n",
      "epoch 5400: 2.5771534637897275e-05\n",
      "epoch 5500: 2.715900518523995e-05\n",
      "epoch 5600: 2.5830973754636943e-05\n",
      "epoch 5700: 2.5621786335250363e-05\n",
      "epoch 5800: 2.5121002181549557e-05\n",
      "epoch 5900: 2.5596862542442977e-05\n",
      "epoch 6000: 2.6610610802890733e-05\n",
      "epoch 6100: 2.5477438612142578e-05\n",
      "epoch 6200: 2.5368493879796006e-05\n",
      "epoch 6300: 2.5634068151703104e-05\n",
      "epoch 6400: 2.516383392503485e-05\n",
      "epoch 6500: 2.5406861823285e-05\n",
      "epoch 6600: 2.4821691113174893e-05\n",
      "epoch 6700: 2.4806824512779713e-05\n",
      "epoch 6800: 2.4856863092281856e-05\n",
      "epoch 6900: 2.5112871298915707e-05\n",
      "epoch 7000: 2.4818427846184932e-05\n",
      "epoch 7100: 2.520402085792739e-05\n",
      "epoch 7200: 2.4761204258538783e-05\n",
      "epoch 7300: 2.6116729713976383e-05\n",
      "epoch 7400: 2.5100911443587393e-05\n",
      "epoch 7500: 2.4393519197474234e-05\n",
      "epoch 7600: 2.4818658857839182e-05\n",
      "epoch 7700: 2.4996217689476907e-05\n",
      "epoch 7800: 2.462352131260559e-05\n",
      "epoch 7900: 2.5220038878615014e-05\n",
      "epoch 8000: 2.4186321752495132e-05\n",
      "epoch 8100: 2.5352883312734775e-05\n",
      "epoch 8200: 2.4304183170897886e-05\n",
      "epoch 8300: 2.4198074243031442e-05\n",
      "epoch 8400: 2.3810567654436454e-05\n",
      "epoch 8500: 2.4238452169811353e-05\n",
      "epoch 8600: 2.4483910237904638e-05\n",
      "epoch 8700: 2.4048453269642778e-05\n",
      "epoch 8800: 2.3995587980607525e-05\n",
      "epoch 8900: 2.377684177190531e-05\n",
      "epoch 9000: 2.3747526938677765e-05\n",
      "epoch 9100: 2.367104207223747e-05\n",
      "epoch 9200: 2.408503132755868e-05\n",
      "epoch 9300: 2.439154741296079e-05\n",
      "epoch 9400: 2.3562472051708028e-05\n",
      "epoch 9500: 2.3011340090306476e-05\n",
      "epoch 9600: 2.3564896764582954e-05\n",
      "epoch 9700: 2.394760122115258e-05\n",
      "epoch 9800: 2.3483789846068248e-05\n",
      "epoch 9900: 2.317267171747517e-05\n",
      "epoch 10000: 2.3262075046659447e-05\n",
      "epoch 10100: 2.2989290300756693e-05\n",
      "epoch 10200: 2.2951218852540478e-05\n",
      "epoch 10300: 2.2728965632268228e-05\n",
      "epoch 10400: 2.30563928198535e-05\n",
      "epoch 10500: 2.34933067986276e-05\n",
      "epoch 10600: 2.3156886527431197e-05\n",
      "epoch 10700: 2.2733269361197017e-05\n",
      "epoch 10800: 2.28439130296465e-05\n",
      "epoch 10900: 2.3872937163105235e-05\n",
      "epoch 11000: 2.2683014321955852e-05\n",
      "epoch 11100: 2.2122405425761826e-05\n",
      "epoch 11200: 2.2785761757404543e-05\n",
      "epoch 11300: 2.218130430264864e-05\n",
      "epoch 11400: 2.258210770378355e-05\n",
      "epoch 11500: 2.2319050913210958e-05\n",
      "epoch 11600: 2.2461979824583977e-05\n",
      "epoch 11700: 2.236593354609795e-05\n",
      "epoch 11800: 2.2136144252726808e-05\n",
      "epoch 11900: 2.2333873857860453e-05\n",
      "epoch 12000: 2.2587277271668427e-05\n",
      "epoch 12100: 2.207000034104567e-05\n",
      "epoch 12200: 2.2555819668923505e-05\n",
      "epoch 12300: 2.2205382265383378e-05\n",
      "epoch 12400: 2.2277163225226104e-05\n",
      "epoch 12500: 2.173722896259278e-05\n",
      "epoch 12600: 2.1771160390926525e-05\n",
      "epoch 12700: 2.1861533241462894e-05\n",
      "epoch 12800: 2.1937277779215947e-05\n",
      "epoch 12900: 2.1538115106523037e-05\n",
      "epoch 13000: 2.178393697249703e-05\n",
      "epoch 13100: 2.097742435580585e-05\n",
      "epoch 13200: 2.264591967104934e-05\n",
      "epoch 13300: 2.1739640942541882e-05\n",
      "epoch 13400: 2.279932778037619e-05\n",
      "epoch 13500: 2.1491114239324816e-05\n",
      "epoch 13600: 2.2167594579514116e-05\n",
      "epoch 13700: 2.1129691958776675e-05\n",
      "epoch 13800: 2.1404563085525297e-05\n",
      "epoch 13900: 2.0757399397552945e-05\n",
      "epoch 14000: 2.2496560632134788e-05\n",
      "epoch 14100: 2.2184938643476926e-05\n",
      "epoch 14200: 2.1153540728846565e-05\n",
      "epoch 14300: 2.1475914763868786e-05\n",
      "epoch 14400: 2.083039544231724e-05\n",
      "epoch 14500: 2.094832234433852e-05\n",
      "epoch 14600: 2.1235127860563807e-05\n",
      "epoch 14700: 2.065510125248693e-05\n",
      "epoch 14800: 2.096993921441026e-05\n",
      "epoch 14900: 2.062584098894149e-05\n",
      "epoch 15000: 2.0935540305799805e-05\n",
      "epoch 15100: 2.0587431208696216e-05\n",
      "epoch 15200: 2.1302983441273682e-05\n",
      "epoch 15300: 2.0683786715380847e-05\n",
      "epoch 15400: 2.057484380202368e-05\n",
      "epoch 15500: 2.064148247882258e-05\n",
      "epoch 15600: 2.198052970925346e-05\n",
      "epoch 15700: 2.064922773570288e-05\n",
      "epoch 15800: 2.117943404300604e-05\n",
      "epoch 15900: 2.0394192688399926e-05\n",
      "epoch 16000: 2.084381048916839e-05\n",
      "epoch 16100: 2.1081690647406504e-05\n",
      "epoch 16200: 2.028107519436162e-05\n",
      "epoch 16300: 2.063800820906181e-05\n",
      "epoch 16400: 2.0206536646583118e-05\n",
      "epoch 16500: 2.0635343389585614e-05\n",
      "epoch 16600: 2.0590381609508768e-05\n",
      "epoch 16700: 2.0201805455144495e-05\n",
      "epoch 16800: 2.0139934349572286e-05\n",
      "epoch 16900: 2.1146886865608394e-05\n",
      "epoch 17000: 2.0109624529141e-05\n",
      "epoch 17100: 2.006868271564599e-05\n",
      "epoch 17200: 2.058622158074286e-05\n",
      "epoch 17300: 2.004215093620587e-05\n",
      "epoch 17400: 2.0597424736479297e-05\n",
      "epoch 17500: 2.1198216927587055e-05\n",
      "epoch 17600: 2.015238715102896e-05\n",
      "epoch 17700: 2.0225485059199855e-05\n",
      "epoch 17800: 2.0447921997401863e-05\n",
      "epoch 17900: 2.0470915842452087e-05\n",
      "epoch 18000: 2.031999611062929e-05\n",
      "epoch 18100: 2.007577131735161e-05\n",
      "epoch 18200: 2.038423735939432e-05\n",
      "epoch 18300: 2.0083241906831972e-05\n",
      "epoch 18400: 2.0360144844744354e-05\n",
      "epoch 18500: 2.0325400328147225e-05\n",
      "epoch 18600: 2.015095014940016e-05\n",
      "epoch 18700: 1.9985087419627234e-05\n",
      "epoch 18800: 2.1636838937411085e-05\n",
      "epoch 18900: 2.0133413272560574e-05\n",
      "epoch 19000: 2.057452184089925e-05\n",
      "epoch 19100: 2.111003595928196e-05\n",
      "epoch 19200: 2.1302583263604902e-05\n",
      "epoch 19300: 2.0859180949628353e-05\n",
      "epoch 19400: 2.0268818843760528e-05\n",
      "epoch 19500: 1.9869628886226565e-05\n",
      "epoch 19600: 2.024169225478545e-05\n",
      "epoch 19700: 2.0011539163533598e-05\n",
      "epoch 19800: 1.9801360394922085e-05\n",
      "epoch 19900: 2.0195086108287796e-05\n",
      "epoch 20000: 1.9940482161473483e-05\n",
      "epoch 20100: 1.997022445721086e-05\n",
      "epoch 20200: 1.9873059500241652e-05\n",
      "epoch 20300: 2.0281790057197213e-05\n",
      "epoch 20400: 1.9932027498725802e-05\n",
      "epoch 20500: 1.947450073203072e-05\n",
      "epoch 20600: 1.9769346181419678e-05\n",
      "epoch 20700: 2.000294261961244e-05\n",
      "epoch 20800: 2.042107007582672e-05\n",
      "epoch 20900: 1.9596549464040436e-05\n",
      "epoch 21000: 2.0066461729584262e-05\n",
      "epoch 21100: 1.9473056454444304e-05\n",
      "epoch 21200: 1.9993620298919268e-05\n",
      "epoch 21300: 2.04809766728431e-05\n",
      "epoch 21400: 1.9339662685524672e-05\n",
      "epoch 21500: 2.0052781110280193e-05\n",
      "epoch 21600: 1.9850514945574105e-05\n",
      "epoch 21700: 2.0762729036505334e-05\n",
      "epoch 21800: 2.0685954950749874e-05\n",
      "epoch 21900: 1.9636263459688053e-05\n",
      "epoch 22000: 1.9954240997321904e-05\n",
      "epoch 22100: 2.0251261958037503e-05\n",
      "epoch 22200: 1.96382370631909e-05\n",
      "epoch 22300: 1.9708098989212885e-05\n",
      "epoch 22400: 2.08936271519633e-05\n",
      "epoch 22500: 2.007308285101317e-05\n",
      "epoch 22600: 1.9964916646131314e-05\n",
      "epoch 22700: 2.0071147446287796e-05\n",
      "epoch 22800: 1.9598304788814858e-05\n",
      "epoch 22900: 1.9640327082015574e-05\n",
      "epoch 23000: 2.0245590349077247e-05\n",
      "epoch 23100: 1.979901935555972e-05\n",
      "epoch 23200: 2.028348717431072e-05\n",
      "epoch 23300: 1.975759914785158e-05\n",
      "epoch 23400: 1.9722569049918093e-05\n"
     ]
    },
    {
     "name": "stdout",
     "output_type": "stream",
     "text": [
      "epoch 23500: 1.9890107068931684e-05\n",
      "epoch 23600: 1.966676973097492e-05\n",
      "epoch 23700: 2.114822382282e-05\n",
      "epoch 23800: 1.968658216355834e-05\n",
      "epoch 23900: 2.0110006516915746e-05\n",
      "epoch 24000: 1.970778248505667e-05\n",
      "epoch 24100: 1.9454748326097615e-05\n",
      "epoch 24200: 1.987595169339329e-05\n",
      "epoch 24300: 1.932871418830473e-05\n",
      "epoch 24400: 1.960481131391134e-05\n",
      "epoch 24500: 1.971840720216278e-05\n",
      "epoch 24600: 1.980286651814822e-05\n",
      "epoch 24700: 1.9915931261493824e-05\n",
      "epoch 24800: 1.9368781067896634e-05\n",
      "epoch 24900: 1.9390397937968373e-05\n",
      "epoch 25000: 2.0169965864624828e-05\n",
      "epoch 25100: 1.9709452317329124e-05\n",
      "epoch 25200: 1.970024823094718e-05\n",
      "epoch 25300: 1.9763690943364054e-05\n",
      "epoch 25400: 1.9532189980964176e-05\n",
      "epoch 25500: 1.9907980458810925e-05\n",
      "epoch 25600: 1.9490687918732874e-05\n",
      "epoch 25700: 1.9845263523166068e-05\n",
      "epoch 25800: 1.961360794666689e-05\n",
      "epoch 25900: 2.048418900812976e-05\n",
      "epoch 26000: 1.8861157514038496e-05\n",
      "epoch 26100: 1.9520774003467523e-05\n",
      "epoch 26200: 1.9816630810964853e-05\n",
      "epoch 26300: 2.0005601982120425e-05\n",
      "epoch 26400: 1.952764614543412e-05\n",
      "epoch 26500: 1.9576922568376176e-05\n",
      "epoch 26600: 2.0352892533992417e-05\n",
      "epoch 26700: 1.947426062542945e-05\n",
      "epoch 26800: 2.1286088667693548e-05\n",
      "epoch 26900: 1.945838812389411e-05\n",
      "epoch 27000: 1.9667828382807784e-05\n",
      "epoch 27100: 1.997520485019777e-05\n",
      "epoch 27200: 1.9321298168506473e-05\n",
      "epoch 27300: 1.949707802850753e-05\n",
      "epoch 27400: 1.9594221157603897e-05\n",
      "epoch 27500: 1.967127900570631e-05\n",
      "epoch 27600: 1.9505481759551913e-05\n",
      "epoch 27700: 1.9904869986930862e-05\n",
      "epoch 27800: 1.8940583686344326e-05\n",
      "epoch 27900: 1.92695006262511e-05\n",
      "epoch 28000: 1.9477431123959832e-05\n",
      "epoch 28100: 1.929177960846573e-05\n",
      "epoch 28200: 1.9603330656536855e-05\n",
      "epoch 28300: 2.0071332983206958e-05\n",
      "epoch 28400: 1.9439723473624326e-05\n",
      "epoch 28500: 2.0866455088253133e-05\n",
      "epoch 28600: 1.9619890736066736e-05\n",
      "epoch 28700: 1.946877637237776e-05\n",
      "epoch 28800: 1.961127964023035e-05\n",
      "epoch 28900: 1.9432362023508176e-05\n",
      "epoch 29000: 1.987839277717285e-05\n",
      "epoch 29100: 1.939857793331612e-05\n",
      "epoch 29200: 1.979404805751983e-05\n",
      "epoch 29300: 1.933538260345813e-05\n",
      "epoch 29400: 1.932234226842411e-05\n",
      "epoch 29500: 1.9277918909210712e-05\n",
      "epoch 29600: 1.9551718651200645e-05\n",
      "epoch 29700: 1.9341037841513753e-05\n",
      "epoch 29800: 1.928590972966049e-05\n",
      "epoch 29900: 1.926855657075066e-05\n",
      "epoch 30000: 2.075299562420696e-05\n"
     ]
    }
   ],
   "source": [
    "import torch\n",
    "import torch.nn as nn\n",
    "import torch.optim as optim\n",
    "\n",
    "class Model(nn.Module):\n",
    "    def __init__(self):\n",
    "        super().__init__()\n",
    "\n",
    "        self.lstm = nn.LSTM(4, 64)\n",
    "        self.linear = nn.Linear(64, 1)\n",
    "        self.sigmoid = nn.Sigmoid()\n",
    "        self.tanh = nn.Tanh()\n",
    "\n",
    "    def forward(self, x):\n",
    "        out, (h, c) = self.lstm(x)\n",
    "        #print(\"================\")\n",
    "        #print(out)\n",
    "        out = self.linear(out[:, -1])\n",
    "        y_hat = self.sigmoid(out)\n",
    "        # y_hat = self.tanh(out)\n",
    "\n",
    "        return y_hat\n",
    "\n",
    "device = torch.device(\"cuda:0\" if torch.cuda.is_available() else \"cpu\")\n",
    "\n",
    "model = Model().to(device)\n",
    "# optimizer = optim.SGD(model.parameters(), lr=1e-2)\n",
    "optimizer = optim.Adam(model.parameters(), lr=1e-5)\n",
    "criterion = nn.MSELoss()\n",
    "\n",
    "patience_step = 0\n",
    "patience_loss = float('inf')\n",
    "\n",
    "for epoch in range(30000): # 10000):\n",
    "    epoch_loss = 0\n",
    "    for batch_x, batch_y in dataloader_train:\n",
    "        batch_x = batch_x.to(device)\n",
    "        batch_y = batch_y.to(device)\n",
    "\n",
    "        y_hat = model(batch_x)\n",
    "        # print(y_hat.shape)\n",
    "        # print(batch_y.shape)\n",
    "        loss = criterion(y_hat, batch_y)\n",
    "\n",
    "        epoch_loss += loss # .item()\n",
    "\n",
    "        loss.backward()\n",
    "    \n",
    "        optimizer.step()\n",
    "        optimizer.zero_grad()\n",
    "\n",
    "    epoch_loss /= len(train_x)\n",
    "\n",
    "    '''\n",
    "    if patience_loss < epoch_loss:\n",
    "        patience_step += 1\n",
    "        if patience_step > 50: # 10 epoch 連続で loss が前回をうわ丸用ならば\n",
    "            break # 学習の終了\n",
    "    else:\n",
    "        patience_step = 0\n",
    "        patience_loss = epoch_loss\n",
    "    '''\n",
    "\n",
    "    if (epoch+1) % 100 == 0:\n",
    "        print(\"epoch {}: {}\".format(epoch+1, epoch_loss))"
   ]
  },
  {
   "cell_type": "code",
   "execution_count": 8,
   "metadata": {
    "colab": {
     "base_uri": "https://localhost:8080/",
     "height": 265
    },
    "id": "G7Jjtj7zxDR5",
    "outputId": "694c6793-9bba-45e4-b573-840d70f1f9b1"
   },
   "outputs": [
    {
     "data": {
      "image/png": "[encoded data removed]",
      "text/plain": [
       "<Figure size 432x288 with 1 Axes>"
      ]
     },
     "metadata": {
      "needs_background": "light"
     },
     "output_type": "display_data"
    }
   ],
   "source": [
    "model.eval()\n",
    "y_list = list()\n",
    "y_hat_list = list()\n",
    "\n",
    "for batch_x, batch_y in dataloader_test:\n",
    "    batch_x = batch_x.to(device)\n",
    "    batch_y = batch_y.to(device)\n",
    "    y_hat = model(batch_x)\n",
    "\n",
    "    y_list += batch_y.flatten().tolist()\n",
    "    y_hat_list += y_hat.flatten().tolist()\n",
    "\n",
    "import matplotlib.pyplot as plt\n",
    "\n",
    "plt.plot(y_list, label=\"true\")\n",
    "plt.plot(y_hat_list, label=\"pred\")\n",
    "plt.legend()\n",
    "plt.show()"
   ]
  },
  {
   "cell_type": "code",
   "execution_count": 24,
   "metadata": {
    "colab": {
     "base_uri": "https://localhost:8080/",
     "height": 286
    },
    "id": "jgg9plJayQKD",
    "outputId": "1401bb27-2bc2-41c1-d5b3-bed2c3ac6794"
   },
   "outputs": [
    {
     "data": {
      "text/plain": [
       "<AxesSubplot:xlabel='Date'>"
      ]
     },
     "execution_count": 24,
     "metadata": {},
     "output_type": "execute_result"
    },
    {
     "data": {
      "image/png": "[encoded data removed]",
      "text/plain": [
       "<Figure size 432x288 with 1 Axes>"
      ]
     },
     "metadata": {
      "needs_background": "light"
     },
     "output_type": "display_data"
    }
   ],
   "source": [
    "df['Close'].plot()"
   ]
  },
  {
   "cell_type": "markdown",
   "metadata": {
    "id": "Vl0HLNhR44kr"
   },
   "source": [
    "## これ以降をバッチ化していないコード → 遅い"
   ]
  },
  {
   "cell_type": "code",
   "execution_count": 16,
   "metadata": {
    "colab": {
     "base_uri": "https://localhost:8080/",
     "height": 1000
    },
    "id": "Ws6KaE1UcuMM",
    "outputId": "b60fb332-8030-40a1-8f13-2ba22d9958b9"
   },
   "outputs": [
    {
     "name": "stdout",
     "output_type": "stream",
     "text": [
      "epoch 100: 0.0043321410194039345\n",
      "epoch 200: 0.0006673765019513667\n",
      "epoch 300: 0.00045317134936340153\n",
      "epoch 400: 0.00037709754542447627\n",
      "epoch 500: 0.0003122913185507059\n",
      "epoch 600: 0.0002636206627357751\n",
      "epoch 700: 0.000227602751692757\n",
      "epoch 800: 0.00020131203928031027\n",
      "epoch 900: 0.0001823762577259913\n",
      "epoch 1000: 0.00016871395928319544\n",
      "epoch 1100: 0.00015865577734075487\n",
      "epoch 1200: 0.00015101391181815416\n",
      "epoch 1300: 0.0001450020936317742\n",
      "epoch 1400: 0.0001401211484335363\n",
      "epoch 1500: 0.00013604492414742708\n",
      "epoch 1600: 0.00013256991223897785\n",
      "epoch 1700: 0.00012955906277056783\n",
      "epoch 1800: 0.0001269197091460228\n",
      "epoch 1900: 0.00012458744458854198\n",
      "epoch 2000: 0.00012251257430762053\n",
      "epoch 2100: 0.00012065772170899436\n",
      "epoch 2200: 0.00011899122910108417\n",
      "epoch 2300: 0.00011749087570933625\n",
      "epoch 2400: 0.00011613935930654407\n",
      "epoch 2500: 0.0001149222589447163\n",
      "epoch 2600: 0.00011382951925043017\n",
      "epoch 2700: 0.0001128522926592268\n",
      "epoch 2800: 0.00011198299034731463\n",
      "epoch 2900: 0.00011121454735985026\n",
      "epoch 3000: 0.00011053976049879566\n",
      "epoch 3100: 0.00010994832700816914\n",
      "epoch 3200: 0.00010942840162897483\n",
      "epoch 3300: 0.00010896586172748357\n",
      "epoch 3400: 0.00010854689753614366\n",
      "epoch 3500: 0.0001081607406376861\n",
      "epoch 3600: 0.00010779920557979494\n",
      "epoch 3700: 0.00010745770850917324\n",
      "epoch 3800: 0.00010713349183788523\n"
     ]
    },
    {
     "ename": "KeyboardInterrupt",
     "evalue": "ignored",
     "output_type": "error",
     "traceback": [
      "\u001b[0;31m---------------------------------------------------------------------------\u001b[0m",
      "\u001b[0;31mKeyboardInterrupt\u001b[0m                         Traceback (most recent call last)",
      "\u001b[0;32m<ipython-input-16-3dfb68322d3f>\u001b[0m in \u001b[0;36m<module>\u001b[0;34m\u001b[0m\n\u001b[1;32m     41\u001b[0m         \u001b[0mepoch_loss\u001b[0m \u001b[0;34m+=\u001b[0m \u001b[0mloss\u001b[0m \u001b[0;31m# .item()\u001b[0m\u001b[0;34m\u001b[0m\u001b[0;34m\u001b[0m\u001b[0m\n\u001b[1;32m     42\u001b[0m \u001b[0;34m\u001b[0m\u001b[0m\n\u001b[0;32m---> 43\u001b[0;31m         \u001b[0mloss\u001b[0m\u001b[0;34m.\u001b[0m\u001b[0mbackward\u001b[0m\u001b[0;34m(\u001b[0m\u001b[0;34m)\u001b[0m\u001b[0;34m\u001b[0m\u001b[0;34m\u001b[0m\u001b[0m\n\u001b[0m\u001b[1;32m     44\u001b[0m \u001b[0;34m\u001b[0m\u001b[0m\n\u001b[1;32m     45\u001b[0m     \u001b[0moptimizer\u001b[0m\u001b[0;34m.\u001b[0m\u001b[0mstep\u001b[0m\u001b[0;34m(\u001b[0m\u001b[0;34m)\u001b[0m\u001b[0;34m\u001b[0m\u001b[0;34m\u001b[0m\u001b[0m\n",
      "\u001b[0;32m/usr/local/lib/python3.7/dist-packages/torch/_tensor.py\u001b[0m in \u001b[0;36mbackward\u001b[0;34m(self, gradient, retain_graph, create_graph, inputs)\u001b[0m\n\u001b[1;32m    394\u001b[0m                 \u001b[0mcreate_graph\u001b[0m\u001b[0;34m=\u001b[0m\u001b[0mcreate_graph\u001b[0m\u001b[0;34m,\u001b[0m\u001b[0;34m\u001b[0m\u001b[0;34m\u001b[0m\u001b[0m\n\u001b[1;32m    395\u001b[0m                 inputs=inputs)\n\u001b[0;32m--> 396\u001b[0;31m         \u001b[0mtorch\u001b[0m\u001b[0;34m.\u001b[0m\u001b[0mautograd\u001b[0m\u001b[0;34m.\u001b[0m\u001b[0mbackward\u001b[0m\u001b[0;34m(\u001b[0m\u001b[0mself\u001b[0m\u001b[0;34m,\u001b[0m \u001b[0mgradient\u001b[0m\u001b[0;34m,\u001b[0m \u001b[0mretain_graph\u001b[0m\u001b[0;34m,\u001b[0m \u001b[0mcreate_graph\u001b[0m\u001b[0;34m,\u001b[0m \u001b[0minputs\u001b[0m\u001b[0;34m=\u001b[0m\u001b[0minputs\u001b[0m\u001b[0;34m)\u001b[0m\u001b[0;34m\u001b[0m\u001b[0;34m\u001b[0m\u001b[0m\n\u001b[0m\u001b[1;32m    397\u001b[0m \u001b[0;34m\u001b[0m\u001b[0m\n\u001b[1;32m    398\u001b[0m     \u001b[0;32mdef\u001b[0m \u001b[0mregister_hook\u001b[0m\u001b[0;34m(\u001b[0m\u001b[0mself\u001b[0m\u001b[0;34m,\u001b[0m \u001b[0mhook\u001b[0m\u001b[0;34m)\u001b[0m\u001b[0;34m:\u001b[0m\u001b[0;34m\u001b[0m\u001b[0;34m\u001b[0m\u001b[0m\n",
      "\u001b[0;32m/usr/local/lib/python3.7/dist-packages/torch/autograd/__init__.py\u001b[0m in \u001b[0;36mbackward\u001b[0;34m(tensors, grad_tensors, retain_graph, create_graph, grad_variables, inputs)\u001b[0m\n\u001b[1;32m    173\u001b[0m     Variable._execution_engine.run_backward(  # Calls into the C++ engine to run the backward pass\n\u001b[1;32m    174\u001b[0m         \u001b[0mtensors\u001b[0m\u001b[0;34m,\u001b[0m \u001b[0mgrad_tensors_\u001b[0m\u001b[0;34m,\u001b[0m \u001b[0mretain_graph\u001b[0m\u001b[0;34m,\u001b[0m \u001b[0mcreate_graph\u001b[0m\u001b[0;34m,\u001b[0m \u001b[0minputs\u001b[0m\u001b[0;34m,\u001b[0m\u001b[0;34m\u001b[0m\u001b[0;34m\u001b[0m\u001b[0m\n\u001b[0;32m--> 175\u001b[0;31m         allow_unreachable=True, accumulate_grad=True)  # Calls into the C++ engine to run the backward pass\n\u001b[0m\u001b[1;32m    176\u001b[0m \u001b[0;34m\u001b[0m\u001b[0m\n\u001b[1;32m    177\u001b[0m def grad(\n",
      "\u001b[0;31mKeyboardInterrupt\u001b[0m: "
     ]
    }
   ],
   "source": [
    "import torch\n",
    "import torch.nn as nn\n",
    "import torch.optim as optim\n",
    "\n",
    "class Model(nn.Module):\n",
    "    def __init__(self):\n",
    "        super().__init__()\n",
    "\n",
    "        self.lstm = nn.LSTM(4, 4)\n",
    "        self.linear = nn.Linear(4, 1)\n",
    "        self.sigmoid = nn.Sigmoid()\n",
    "\n",
    "    def forward(self, x):\n",
    "        out, (h, c) = self.lstm(x)\n",
    "        #print(\"================\")\n",
    "        #print(out)\n",
    "        out = self.linear(out[-1])\n",
    "        y_hat = self.sigmoid(out)\n",
    "\n",
    "        return y_hat\n",
    "\n",
    "device = torch.device(\"cuda:0\" if torch.cuda.is_available() else \"cpu\")\n",
    "\n",
    "model = Model().to(device)\n",
    "optimizer = optim.SGD(model.parameters(), lr=1e-2)\n",
    "criterion = nn.MSELoss()\n",
    "\n",
    "patience_step = 0\n",
    "patience_loss = float('inf')\n",
    "\n",
    "for epoch in range(10000):\n",
    "    epoch_loss = 0\n",
    "    for x, y in zip(train_x, train_y):\n",
    "        x = torch.tensor(x, dtype=torch.float).to(device)\n",
    "        y = torch.tensor([y], dtype=torch.float).to(device)\n",
    "\n",
    "        y_hat = model(x)\n",
    "\n",
    "        loss = criterion(y_hat, y)\n",
    "\n",
    "        epoch_loss += loss # .item()\n",
    "\n",
    "        loss.backward()\n",
    "    \n",
    "    optimizer.step()\n",
    "    optimizer.zero_grad()\n",
    "\n",
    "    epoch_loss /= len(train_x)\n",
    "\n",
    "    '''\n",
    "    if patience_loss < epoch_loss:\n",
    "        patience_step += 1\n",
    "        if patience_step > 50: # 10 epoch 連続で loss が前回をうわ丸用ならば\n",
    "            break # 学習の終了\n",
    "    else:\n",
    "        patience_step = 0\n",
    "        patience_loss = epoch_loss\n",
    "    '''\n",
    "\n",
    "    if (epoch+1) % 100 == 0:\n",
    "        print(\"epoch {}: {}\".format(epoch+1, epoch_loss))\n",
    "    "
   ]
  },
  {
   "cell_type": "code",
   "execution_count": 32,
   "metadata": {
    "colab": {
     "base_uri": "https://localhost:8080/",
     "height": 378
    },
    "id": "AaciMe_Hf-XP",
    "outputId": "a92bfe6d-58f0-42fa-e5a3-8306f08a8969"
   },
   "outputs": [
    {
     "ename": "RuntimeError",
     "evalue": "ignored",
     "output_type": "error",
     "traceback": [
      "\u001b[0;31m---------------------------------------------------------------------------\u001b[0m",
      "\u001b[0;31mRuntimeError\u001b[0m                              Traceback (most recent call last)",
      "\u001b[0;32m<ipython-input-32-478efc24eb49>\u001b[0m in \u001b[0;36m<module>\u001b[0;34m\u001b[0m\n\u001b[1;32m      7\u001b[0m     \u001b[0;31m# y = torch.tensor([y], dtype=torch.float).to(device)\u001b[0m\u001b[0;34m\u001b[0m\u001b[0;34m\u001b[0m\u001b[0;34m\u001b[0m\u001b[0m\n\u001b[1;32m      8\u001b[0m \u001b[0;34m\u001b[0m\u001b[0m\n\u001b[0;32m----> 9\u001b[0;31m     \u001b[0my_hat\u001b[0m \u001b[0;34m=\u001b[0m \u001b[0mmodel\u001b[0m\u001b[0;34m(\u001b[0m\u001b[0mx\u001b[0m\u001b[0;34m)\u001b[0m\u001b[0;34m\u001b[0m\u001b[0;34m\u001b[0m\u001b[0m\n\u001b[0m\u001b[1;32m     10\u001b[0m \u001b[0;34m\u001b[0m\u001b[0m\n\u001b[1;32m     11\u001b[0m     \u001b[0my_list\u001b[0m\u001b[0;34m.\u001b[0m\u001b[0mappend\u001b[0m\u001b[0;34m(\u001b[0m\u001b[0my\u001b[0m\u001b[0;34m.\u001b[0m\u001b[0mitem\u001b[0m\u001b[0;34m(\u001b[0m\u001b[0;34m)\u001b[0m\u001b[0;34m)\u001b[0m\u001b[0;34m\u001b[0m\u001b[0;34m\u001b[0m\u001b[0m\n",
      "\u001b[0;32m/usr/local/lib/python3.7/dist-packages/torch/nn/modules/module.py\u001b[0m in \u001b[0;36m_call_impl\u001b[0;34m(self, *input, **kwargs)\u001b[0m\n\u001b[1;32m   1128\u001b[0m         if not (self._backward_hooks or self._forward_hooks or self._forward_pre_hooks or _global_backward_hooks\n\u001b[1;32m   1129\u001b[0m                 or _global_forward_hooks or _global_forward_pre_hooks):\n\u001b[0;32m-> 1130\u001b[0;31m             \u001b[0;32mreturn\u001b[0m \u001b[0mforward_call\u001b[0m\u001b[0;34m(\u001b[0m\u001b[0;34m*\u001b[0m\u001b[0minput\u001b[0m\u001b[0;34m,\u001b[0m \u001b[0;34m**\u001b[0m\u001b[0mkwargs\u001b[0m\u001b[0;34m)\u001b[0m\u001b[0;34m\u001b[0m\u001b[0;34m\u001b[0m\u001b[0m\n\u001b[0m\u001b[1;32m   1131\u001b[0m         \u001b[0;31m# Do not call functions when jit is used\u001b[0m\u001b[0;34m\u001b[0m\u001b[0;34m\u001b[0m\u001b[0;34m\u001b[0m\u001b[0m\n\u001b[1;32m   1132\u001b[0m         \u001b[0mfull_backward_hooks\u001b[0m\u001b[0;34m,\u001b[0m \u001b[0mnon_full_backward_hooks\u001b[0m \u001b[0;34m=\u001b[0m \u001b[0;34m[\u001b[0m\u001b[0;34m]\u001b[0m\u001b[0;34m,\u001b[0m \u001b[0;34m[\u001b[0m\u001b[0;34m]\u001b[0m\u001b[0;34m\u001b[0m\u001b[0;34m\u001b[0m\u001b[0m\n",
      "\u001b[0;32m<ipython-input-31-7788522c479b>\u001b[0m in \u001b[0;36mforward\u001b[0;34m(self, x)\u001b[0m\n\u001b[1;32m     15\u001b[0m         \u001b[0;31m#print(\"================\")\u001b[0m\u001b[0;34m\u001b[0m\u001b[0;34m\u001b[0m\u001b[0;34m\u001b[0m\u001b[0m\n\u001b[1;32m     16\u001b[0m         \u001b[0;31m#print(out)\u001b[0m\u001b[0;34m\u001b[0m\u001b[0;34m\u001b[0m\u001b[0;34m\u001b[0m\u001b[0m\n\u001b[0;32m---> 17\u001b[0;31m         \u001b[0mout\u001b[0m \u001b[0;34m=\u001b[0m \u001b[0mself\u001b[0m\u001b[0;34m.\u001b[0m\u001b[0mlinear\u001b[0m\u001b[0;34m(\u001b[0m\u001b[0mout\u001b[0m\u001b[0;34m[\u001b[0m\u001b[0;34m:\u001b[0m\u001b[0;34m,\u001b[0m \u001b[0;34m-\u001b[0m\u001b[0;36m1\u001b[0m\u001b[0;34m]\u001b[0m\u001b[0;34m)\u001b[0m\u001b[0;34m\u001b[0m\u001b[0;34m\u001b[0m\u001b[0m\n\u001b[0m\u001b[1;32m     18\u001b[0m         \u001b[0my_hat\u001b[0m \u001b[0;34m=\u001b[0m \u001b[0mself\u001b[0m\u001b[0;34m.\u001b[0m\u001b[0msigmoid\u001b[0m\u001b[0;34m(\u001b[0m\u001b[0mout\u001b[0m\u001b[0;34m)\u001b[0m\u001b[0;34m\u001b[0m\u001b[0;34m\u001b[0m\u001b[0m\n\u001b[1;32m     19\u001b[0m \u001b[0;34m\u001b[0m\u001b[0m\n",
      "\u001b[0;32m/usr/local/lib/python3.7/dist-packages/torch/nn/modules/module.py\u001b[0m in \u001b[0;36m_call_impl\u001b[0;34m(self, *input, **kwargs)\u001b[0m\n\u001b[1;32m   1128\u001b[0m         if not (self._backward_hooks or self._forward_hooks or self._forward_pre_hooks or _global_backward_hooks\n\u001b[1;32m   1129\u001b[0m                 or _global_forward_hooks or _global_forward_pre_hooks):\n\u001b[0;32m-> 1130\u001b[0;31m             \u001b[0;32mreturn\u001b[0m \u001b[0mforward_call\u001b[0m\u001b[0;34m(\u001b[0m\u001b[0;34m*\u001b[0m\u001b[0minput\u001b[0m\u001b[0;34m,\u001b[0m \u001b[0;34m**\u001b[0m\u001b[0mkwargs\u001b[0m\u001b[0;34m)\u001b[0m\u001b[0;34m\u001b[0m\u001b[0;34m\u001b[0m\u001b[0m\n\u001b[0m\u001b[1;32m   1131\u001b[0m         \u001b[0;31m# Do not call functions when jit is used\u001b[0m\u001b[0;34m\u001b[0m\u001b[0;34m\u001b[0m\u001b[0;34m\u001b[0m\u001b[0m\n\u001b[1;32m   1132\u001b[0m         \u001b[0mfull_backward_hooks\u001b[0m\u001b[0;34m,\u001b[0m \u001b[0mnon_full_backward_hooks\u001b[0m \u001b[0;34m=\u001b[0m \u001b[0;34m[\u001b[0m\u001b[0;34m]\u001b[0m\u001b[0;34m,\u001b[0m \u001b[0;34m[\u001b[0m\u001b[0;34m]\u001b[0m\u001b[0;34m\u001b[0m\u001b[0;34m\u001b[0m\u001b[0m\n",
      "\u001b[0;32m/usr/local/lib/python3.7/dist-packages/torch/nn/modules/linear.py\u001b[0m in \u001b[0;36mforward\u001b[0;34m(self, input)\u001b[0m\n\u001b[1;32m    112\u001b[0m \u001b[0;34m\u001b[0m\u001b[0m\n\u001b[1;32m    113\u001b[0m     \u001b[0;32mdef\u001b[0m \u001b[0mforward\u001b[0m\u001b[0;34m(\u001b[0m\u001b[0mself\u001b[0m\u001b[0;34m,\u001b[0m \u001b[0minput\u001b[0m\u001b[0;34m:\u001b[0m \u001b[0mTensor\u001b[0m\u001b[0;34m)\u001b[0m \u001b[0;34m->\u001b[0m \u001b[0mTensor\u001b[0m\u001b[0;34m:\u001b[0m\u001b[0;34m\u001b[0m\u001b[0;34m\u001b[0m\u001b[0m\n\u001b[0;32m--> 114\u001b[0;31m         \u001b[0;32mreturn\u001b[0m \u001b[0mF\u001b[0m\u001b[0;34m.\u001b[0m\u001b[0mlinear\u001b[0m\u001b[0;34m(\u001b[0m\u001b[0minput\u001b[0m\u001b[0;34m,\u001b[0m \u001b[0mself\u001b[0m\u001b[0;34m.\u001b[0m\u001b[0mweight\u001b[0m\u001b[0;34m,\u001b[0m \u001b[0mself\u001b[0m\u001b[0;34m.\u001b[0m\u001b[0mbias\u001b[0m\u001b[0;34m)\u001b[0m\u001b[0;34m\u001b[0m\u001b[0;34m\u001b[0m\u001b[0m\n\u001b[0m\u001b[1;32m    115\u001b[0m \u001b[0;34m\u001b[0m\u001b[0m\n\u001b[1;32m    116\u001b[0m     \u001b[0;32mdef\u001b[0m \u001b[0mextra_repr\u001b[0m\u001b[0;34m(\u001b[0m\u001b[0mself\u001b[0m\u001b[0;34m)\u001b[0m \u001b[0;34m->\u001b[0m \u001b[0mstr\u001b[0m\u001b[0;34m:\u001b[0m\u001b[0;34m\u001b[0m\u001b[0;34m\u001b[0m\u001b[0m\n",
      "\u001b[0;31mRuntimeError\u001b[0m: mat1 and mat2 shapes cannot be multiplied (1x5 and 4x1)"
     ]
    }
   ],
   "source": [
    "model.eval()\n",
    "y_list = list()\n",
    "y_hat_list = list()\n",
    "\n",
    "for x, y in zip(test_x, test_y):\n",
    "    x = torch.tensor(x, dtype=torch.float).to(device)\n",
    "    # y = torch.tensor([y], dtype=torch.float).to(device)\n",
    "\n",
    "    y_hat = model(x)\n",
    "\n",
    "    y_list.append(y.item())\n",
    "    y_hat_list.append(y_hat.item())"
   ]
  },
  {
   "cell_type": "code",
   "execution_count": 10,
   "metadata": {
    "colab": {
     "base_uri": "https://localhost:8080/",
     "height": 265
    },
    "id": "o2RJxcsu1Zxd",
    "outputId": "b78022ec-71b3-412f-d461-16fa21e5a478"
   },
   "outputs": [
    {
     "data": {
      "image/png": "[encoded data removed]",
      "text/plain": [
       "<Figure size 432x288 with 1 Axes>"
      ]
     },
     "metadata": {
      "needs_background": "light"
     },
     "output_type": "display_data"
    }
   ],
   "source": [
    "import matplotlib.pyplot as plt\n",
    "\n",
    "plt.plot(y_list, label=\"true\")\n",
    "plt.plot(y_hat_list, label=\"pred\")\n",
    "plt.legend()\n",
    "plt.show()"
   ]
  },
  {
   "cell_type": "code",
   "execution_count": null,
   "metadata": {
    "id": "HIigrKC33bzk"
   },
   "outputs": [],
   "source": []
  }
 ],
 "metadata": {
  "accelerator": "GPU",
  "colab": {
   "provenance": []
  },
  "kernelspec": {
   "display_name": "Python 3 (ipykernel)",
   "language": "python",
   "name": "python3"
  },
  "language_info": {
   "codemirror_mode": {
    "name": "ipython",
    "version": 3
   },
   "file_extension": ".py",
   "mimetype": "text/x-python",
   "name": "python",
   "nbconvert_exporter": "python",
   "pygments_lexer": "ipython3",
   "version": "3.8.13"
  }
 },
 "nbformat": 4,
 "nbformat_minor": 1
}
